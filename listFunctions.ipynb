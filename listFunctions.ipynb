{
 "cells": [
  {
   "cell_type": "code",
   "execution_count": 3,
   "id": "f2616d3b-1a07-4430-aac4-ff1124571668",
   "metadata": {},
   "outputs": [
    {
     "name": "stdout",
     "output_type": "stream",
     "text": [
      "[1, 2, 3, 4]\n",
      "[1, 2, 3, 4, 5]\n",
      "[1, 2, 3, 3.5, 4, 5]\n"
     ]
    }
   ],
   "source": [
    "a = [1,2,3,4]\n",
    "print(a)\n",
    "a.append(5)\n",
    "print(a)\n",
    "a.insert(3,3.5)\n",
    "print(a)"
   ]
  },
  {
   "cell_type": "code",
   "execution_count": 4,
   "id": "7389ac39-c104-40ed-a2fc-1f9a045a46cf",
   "metadata": {},
   "outputs": [],
   "source": [
    "# remove(): it removes the element by value based on its first occurence.\n",
    "# pop()   : it removes the last element of the list or can take index and removes it from the list."
   ]
  },
  {
   "cell_type": "code",
   "execution_count": 7,
   "id": "c70b4f5e-1c55-4087-92a3-31017d452234",
   "metadata": {},
   "outputs": [
    {
     "name": "stdout",
     "output_type": "stream",
     "text": [
      "[5, 4, 3.5, 3, 2, 1]\n"
     ]
    }
   ],
   "source": [
    "#sorting a list in descending order \n",
    "a.sort(reverse = True)\n",
    "print(a)"
   ]
  },
  {
   "cell_type": "code",
   "execution_count": 10,
   "id": "25950d3b-dd28-4a2c-896a-876ec3a557dd",
   "metadata": {},
   "outputs": [
    {
     "name": "stdout",
     "output_type": "stream",
     "text": [
      "5\n"
     ]
    }
   ],
   "source": [
    "# lets make a list \n",
    "d = [1,2,4,3,2,5,2,4,5,22,2,2,4,6,7]\n",
    "#we have to count the element 2's occurence in the list+\n",
    "count = 0\n",
    "for i in d:\n",
    "    if(i==2):\n",
    "        count = count+1\n",
    "print(count)"
   ]
  },
  {
   "cell_type": "code",
   "execution_count": null,
   "id": "1b4e26d0-c2ec-47a6-ba0a-42524256124c",
   "metadata": {},
   "outputs": [],
   "source": []
  }
 ],
 "metadata": {
  "kernelspec": {
   "display_name": "Python 3 (ipykernel)",
   "language": "python",
   "name": "python3"
  },
  "language_info": {
   "codemirror_mode": {
    "name": "ipython",
    "version": 3
   },
   "file_extension": ".py",
   "mimetype": "text/x-python",
   "name": "python",
   "nbconvert_exporter": "python",
   "pygments_lexer": "ipython3",
   "version": "3.10.8"
  }
 },
 "nbformat": 4,
 "nbformat_minor": 5
}
