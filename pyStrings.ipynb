{
 "cells": [
  {
   "cell_type": "code",
   "execution_count": 1,
   "id": "7d26d8aa-031d-4e33-b0d0-8e7d28e8774c",
   "metadata": {},
   "outputs": [],
   "source": [
    "# 1 how can we store a single quote(') as a string\n",
    "str1 = \"'\""
   ]
  },
  {
   "cell_type": "code",
   "execution_count": 2,
   "id": "fdb6a0cd-c8af-40a5-8fba-f9a93c577dbe",
   "metadata": {},
   "outputs": [],
   "source": [
    "# in x =\"a\" here a is a string type variable because in python there are no character data type \n",
    "#but everything in a python string is stored as an array of character and array of one character length can be considerd as a character data type"
   ]
  },
  {
   "cell_type": "code",
   "execution_count": 8,
   "id": "49f5f414-76b9-48b7-8507-75bc912918c2",
   "metadata": {},
   "outputs": [
    {
     "name": "stdout",
     "output_type": "stream",
     "text": [
      "8\n",
      "6\n",
      "35\n",
      "hello and Welcome to python foundation course\n"
     ]
    }
   ],
   "source": [
    "x = \"Welcome to python foundation course\"\n",
    "x1 = x.find(\"to\")\n",
    "print(x1)\n",
    "\n",
    "x2 = x.count(\"o\")\n",
    "print(x2)\n",
    "\n",
    "x3 = len(x)\n",
    "print(x3)\n",
    "\n",
    "x4 = \"hello and \"\n",
    "x5 = x4 +x \n",
    "print(x5)"
   ]
  },
  {
   "cell_type": "code",
   "execution_count": 13,
   "id": "f81a4814-7235-4837-bb41-dc5c803797d5",
   "metadata": {},
   "outputs": [
    {
     "name": "stdout",
     "output_type": "stream",
     "text": [
      "4\n",
      "2\n",
      "5\n"
     ]
    }
   ],
   "source": [
    "word = 'PanaJi@12256'\n",
    "# a \n",
    "count = 0\n",
    "for i in word:\n",
    "    if(i.islower()):\n",
    "        count = count+1\n",
    "print(count)\n",
    "\n",
    "#b\n",
    "count = 0\n",
    "for i in word:\n",
    "    if(i.isupper()):\n",
    "        count = count+1\n",
    "print(count)\n",
    "\n",
    "#c \n",
    "count = 0\n",
    "for i in word:\n",
    "    if(i.isnumeric()):\n",
    "        count = count+1\n",
    "print(count)"
   ]
  },
  {
   "cell_type": "code",
   "execution_count": null,
   "id": "3cbd50ba-d2bc-4915-9635-54a4d18802c5",
   "metadata": {},
   "outputs": [],
   "source": []
  }
 ],
 "metadata": {
  "kernelspec": {
   "display_name": "Python 3 (ipykernel)",
   "language": "python",
   "name": "python3"
  },
  "language_info": {
   "codemirror_mode": {
    "name": "ipython",
    "version": 3
   },
   "file_extension": ".py",
   "mimetype": "text/x-python",
   "name": "python",
   "nbconvert_exporter": "python",
   "pygments_lexer": "ipython3",
   "version": "3.10.8"
  }
 },
 "nbformat": 4,
 "nbformat_minor": 5
}
