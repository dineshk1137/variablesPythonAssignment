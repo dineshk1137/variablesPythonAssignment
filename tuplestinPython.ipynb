{
 "cells": [
  {
   "cell_type": "code",
   "execution_count": 1,
   "id": "f84829bf-ad43-4694-ad2d-546902d76103",
   "metadata": {},
   "outputs": [],
   "source": [
    "#Tuples are used to store multiple items in a single variable.\n",
    "\n",
    "#Tuple is one of 4 built-in data types in Python used to store collections of data, the other 3 are List, Set, and Dictionary, all with different qualities and usage.\n",
    "\n",
    "#A tuple is a collection which is ordered and unchangeable."
   ]
  },
  {
   "cell_type": "code",
   "execution_count": 2,
   "id": "e7f8cdf4-685a-410d-a754-bf6dd2b22131",
   "metadata": {},
   "outputs": [
    {
     "name": "stdout",
     "output_type": "stream",
     "text": [
      "('apple', 'banana', 'grapes')\n"
     ]
    }
   ],
   "source": [
    "a = (\"apple\", \"banana\", \"grapes\")\n",
    "print(a)"
   ]
  },
  {
   "cell_type": "code",
   "execution_count": 3,
   "id": "7c1af093-6ec3-49a3-af6b-8db5f7083d5d",
   "metadata": {},
   "outputs": [],
   "source": [
    "#lists are mutable in nature\n",
    "#Tuples are immutable in nature. //As tuples are immutable, they are faster than the list because they are static."
   ]
  },
  {
   "cell_type": "code",
   "execution_count": 4,
   "id": "4f5be010-3d22-49a0-8474-b131e1d22b28",
   "metadata": {},
   "outputs": [],
   "source": [
    "#Once a tuple is created, we cannot change its values. Tuples are unchangeable, or immutable as it also is called."
   ]
  },
  {
   "cell_type": "code",
   "execution_count": 5,
   "id": "59f14232-e431-46c3-af92-6c15f002449b",
   "metadata": {},
   "outputs": [
    {
     "name": "stdout",
     "output_type": "stream",
     "text": [
      "banana\n"
     ]
    }
   ],
   "source": [
    "print(a[1])"
   ]
  },
  {
   "cell_type": "code",
   "execution_count": 7,
   "id": "ad3ad70f-a270-449c-8412-021a40034804",
   "metadata": {},
   "outputs": [
    {
     "name": "stdout",
     "output_type": "stream",
     "text": [
      "grapes\n"
     ]
    }
   ],
   "source": [
    "print(a[-1])"
   ]
  },
  {
   "cell_type": "code",
   "execution_count": 11,
   "id": "b5a02a06-e58c-48f7-ac0f-cbe9757e5ec5",
   "metadata": {},
   "outputs": [
    {
     "name": "stdout",
     "output_type": "stream",
     "text": [
      "apple\n",
      "banana\n",
      "grapes\n"
     ]
    }
   ],
   "source": [
    "#unnpack values in tuples \n",
    "(green, yellow, yellowish_green) = a\n",
    "print(green)\n",
    "print(yellow)\n",
    "print(yellowish_green)"
   ]
  }
 ],
 "metadata": {
  "kernelspec": {
   "display_name": "Python 3 (ipykernel)",
   "language": "python",
   "name": "python3"
  },
  "language_info": {
   "codemirror_mode": {
    "name": "ipython",
    "version": 3
   },
   "file_extension": ".py",
   "mimetype": "text/x-python",
   "name": "python",
   "nbconvert_exporter": "python",
   "pygments_lexer": "ipython3",
   "version": "3.10.8"
  }
 },
 "nbformat": 4,
 "nbformat_minor": 5
}
