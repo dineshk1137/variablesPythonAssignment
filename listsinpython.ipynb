{
 "cells": [
  {
   "cell_type": "code",
   "execution_count": 1,
   "id": "f06d187e-6c4f-4c05-b43d-e537bed52861",
   "metadata": {},
   "outputs": [],
   "source": [
    "# empty list\n",
    "a = []"
   ]
  },
  {
   "cell_type": "code",
   "execution_count": 2,
   "id": "dc6a047d-8237-4a24-acb3-83c48106a96e",
   "metadata": {},
   "outputs": [
    {
     "name": "stdout",
     "output_type": "stream",
     "text": [
      "[1, 2, 3, 4, 5]\n"
     ]
    }
   ],
   "source": [
    "# append value at the end of the list \n",
    "b = [1,2,3,4]\n",
    "b.append(5)\n",
    "print(b)"
   ]
  },
  {
   "cell_type": "code",
   "execution_count": 3,
   "id": "efdbe7ec-b423-4de2-8f4d-ae05d47b39e5",
   "metadata": {},
   "outputs": [
    {
     "name": "stdout",
     "output_type": "stream",
     "text": [
      "5\n"
     ]
    }
   ],
   "source": [
    "print(b[-1])"
   ]
  },
  {
   "cell_type": "code",
   "execution_count": 4,
   "id": "b7d334ec-4295-4a50-991f-a23478a109c1",
   "metadata": {},
   "outputs": [
    {
     "name": "stdout",
     "output_type": "stream",
     "text": [
      "[5, 4, 3, 2, 1]\n"
     ]
    }
   ],
   "source": [
    "c = b[: :-1]\n",
    "print(c)"
   ]
  },
  {
   "cell_type": "code",
   "execution_count": 7,
   "id": "24c1e3df-c017-4f17-8e19-8a2bcedf59a1",
   "metadata": {},
   "outputs": [
    {
     "name": "stdout",
     "output_type": "stream",
     "text": [
      "iron-man2\n"
     ]
    }
   ],
   "source": [
    "d = [\"iron-man1\", \"iron-man2\", \"iron-man3\"]\n",
    "print(d[1])"
   ]
  },
  {
   "cell_type": "code",
   "execution_count": 10,
   "id": "f9dc765e-4847-4a06-b555-1fbf86788975",
   "metadata": {},
   "outputs": [
    {
     "name": "stdout",
     "output_type": "stream",
     "text": [
      "['rabbit', 'duck', 'rat', 'horse']\n",
      "['rabbit', 'duck', 'rat', 'horse', 'lion']\n"
     ]
    }
   ],
   "source": [
    "e = [\"rabbit\", \"duck\", \"rat\", \"horse\"]\n",
    "print(e)\n",
    "e.append(\"lion\")\n",
    "print(e)"
   ]
  },
  {
   "cell_type": "code",
   "execution_count": 13,
   "id": "524be06b-9c97-4676-a156-dcf4b94e93b0",
   "metadata": {},
   "outputs": [
    {
     "ename": "TypeError",
     "evalue": "'builtin_function_or_method' object is not subscriptable",
     "output_type": "error",
     "traceback": [
      "\u001b[0;31m---------------------------------------------------------------------------\u001b[0m",
      "\u001b[0;31mTypeError\u001b[0m                                 Traceback (most recent call last)",
      "Cell \u001b[0;32mIn[13], line 2\u001b[0m\n\u001b[1;32m      1\u001b[0m f \u001b[38;5;241m=\u001b[39m [\u001b[38;5;124m\"\u001b[39m\u001b[38;5;124mraipur\u001b[39m\u001b[38;5;124m\"\u001b[39m, \u001b[38;5;124m\"\u001b[39m\u001b[38;5;124mbilaspur\u001b[39m\u001b[38;5;124m\"\u001b[39m, \u001b[38;5;124m\"\u001b[39m\u001b[38;5;124mRaigarh\u001b[39m\u001b[38;5;124m\"\u001b[39m, \u001b[38;5;124m\"\u001b[39m\u001b[38;5;124mbhilai\u001b[39m\u001b[38;5;124m\"\u001b[39m]\n\u001b[0;32m----> 2\u001b[0m g \u001b[38;5;241m=\u001b[39m \u001b[43mf\u001b[49m\u001b[38;5;241;43m.\u001b[39;49m\u001b[43mindex\u001b[49m\u001b[43m[\u001b[49m\u001b[38;5;241;43m2\u001b[39;49m\u001b[43m]\u001b[49m\n\u001b[1;32m      3\u001b[0m \u001b[38;5;28mprint\u001b[39m(g)\n",
      "\u001b[0;31mTypeError\u001b[0m: 'builtin_function_or_method' object is not subscriptable"
     ]
    }
   ],
   "source": [
    "f = [\"raipur\", \"bilaspur\", \"Raigarh\", \"bhilai\"]\n",
    "g = f.index[2]\n",
    "print(g)"
   ]
  },
  {
   "cell_type": "code",
   "execution_count": null,
   "id": "4b8524ed-9e59-47b4-9d1c-6c3ffc63c60d",
   "metadata": {},
   "outputs": [],
   "source": []
  }
 ],
 "metadata": {
  "kernelspec": {
   "display_name": "Python 3 (ipykernel)",
   "language": "python",
   "name": "python3"
  },
  "language_info": {
   "codemirror_mode": {
    "name": "ipython",
    "version": 3
   },
   "file_extension": ".py",
   "mimetype": "text/x-python",
   "name": "python",
   "nbconvert_exporter": "python",
   "pygments_lexer": "ipython3",
   "version": "3.10.8"
  }
 },
 "nbformat": 4,
 "nbformat_minor": 5
}
