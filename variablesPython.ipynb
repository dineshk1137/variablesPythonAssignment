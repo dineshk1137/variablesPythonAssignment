{
 "cells": [
  {
   "cell_type": "code",
   "execution_count": 1,
   "id": "b15884e8-38a6-4899-80ee-deac0fbf751f",
   "metadata": {},
   "outputs": [],
   "source": [
    "#All conventions being followed to declare a variable\n",
    "myVariable = \"dk\"\n",
    "# 9variable = 6  // generates error\n",
    "MyVariable = 8 \n",
    "_myVariable = 9\n"
   ]
  },
  {
   "cell_type": "code",
   "execution_count": 5,
   "id": "23fa164d-289c-4be2-aec5-63c337935bc5",
   "metadata": {},
   "outputs": [],
   "source": [
    "#restricted keyword as a variable declaration\n",
    "#  else = 5 //will generate syntaxError "
   ]
  },
  {
   "cell_type": "code",
   "execution_count": 12,
   "id": "39cd1baf-35fd-42f1-a94b-4f470e40fef5",
   "metadata": {},
   "outputs": [],
   "source": [
    "# yes we actually can convert string to variable name in python\n",
    "# E.G.\n",
    "myString1 = 'This Is a String'\n",
    "print(\"String is: \", myString1)\n",
    "\n",
    "#output String is: This Is a String"
   ]
  },
  {
   "cell_type": "code",
   "execution_count": 16,
   "id": "3a810b87-4b75-4606-af46-daabd00fc814",
   "metadata": {},
   "outputs": [],
   "source": [
    "#yes , it is possible to declare \"_\" as a variable e.g.\n",
    "_  = 5\n",
    "print(_)\n",
    "\n",
    "#output 5"
   ]
  },
  {
   "cell_type": "code",
   "execution_count": null,
   "id": "f113e6c9-1377-4ae1-a12f-727eb6a59a30",
   "metadata": {},
   "outputs": [],
   "source": [
    "x = 8\n",
    "print(type(x))\n",
    "\n",
    "x = \"hello\"\n",
    "print(type(x))\n",
    "\n",
    "#output   <class 'int'>\n",
    "#         <class 'str'>"
   ]
  }
 ],
 "metadata": {
  "kernelspec": {
   "display_name": "Python 3 (ipykernel)",
   "language": "python",
   "name": "python3"
  },
  "language_info": {
   "codemirror_mode": {
    "name": "ipython",
    "version": 3
   },
   "file_extension": ".py",
   "mimetype": "text/x-python",
   "name": "python",
   "nbconvert_exporter": "python",
   "pygments_lexer": "ipython3",
   "version": "3.10.8"
  }
 },
 "nbformat": 4,
 "nbformat_minor": 5
}
